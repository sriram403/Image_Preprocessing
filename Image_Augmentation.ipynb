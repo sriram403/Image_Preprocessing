{
 "cells": [
  {
   "cell_type": "code",
   "execution_count": 15,
   "metadata": {},
   "outputs": [],
   "source": [
    "import tensorflow as tf\n",
    "from keras.preprocessing.image import ImageDataGenerator\n",
    "import matplotlib.pyplot as plt\n",
    "import numpy as np\n",
    "import os\n",
    "from PIL import Image\n",
    "from pathlib import Path"
   ]
  },
  {
   "cell_type": "code",
   "execution_count": 14,
   "metadata": {},
   "outputs": [],
   "source": [
    "image_directory = r'images/'\n",
    "augment_directory = r'Augmented-images'\n",
    "\n",
    "path = Path(augment_directory)\n",
    "path.mkdir(exist_ok=True)\n",
    "\n",
    "#Parameters\n",
    "SIZE = 224 # Image Size\n",
    "Aug_Images_Needed = 50 # per class\n",
    "R_R = 40\n",
    "S_R = 0.2\n",
    "Z_R = 0.2\n",
    "H_R = True\n",
    "B_R = (0.5,1.5)\n",
    "W_S_R = 0.2\n",
    "H_S_R = 0.2\n",
    "C_S_R = 0.2\n",
    "V_F = True\n",
    "R = 1.0/255.0\n",
    "\n",
    "# DataGen Object\n",
    "datagen = ImageDataGenerator(        \n",
    "        rotation_range = R_R,\n",
    "        shear_range = S_R,\n",
    "        zoom_range = Z_R,\n",
    "        horizontal_flip = H_R,\n",
    "        brightness_range = B_R,\n",
    "        width_shift_range=W_S_R,\n",
    "        height_shift_range=H_S_R,\n",
    "        channel_shift_range=C_S_R,\n",
    "        vertical_flip=V_F,\n",
    "        rescale=R)\n",
    "\n",
    "#Preprocessing Images\n",
    "dataset = []\n",
    "my_images = os.listdir(image_directory)\n",
    "for i, image_name in enumerate(my_images):\n",
    "    if (image_name.split('.')[1] == 'jpg'):\n",
    "        image_path = os.path.join(image_directory, image_name)\n",
    "        image = plt.imread(image_path)\n",
    "        image = Image.fromarray((image).astype(np.uint8))  # Convert float image to uint8\n",
    "        image = image.resize((SIZE, SIZE))\n",
    "        dataset.append(np.array(image))\n",
    "\n",
    "#Augmenting Images\n",
    "x = np.array(dataset)\n",
    "i = 0\n",
    "for batch in datagen.flow(x, batch_size=16,\n",
    "                          save_to_dir= augment_directory ,\n",
    "                          save_prefix='Aug',\n",
    "                          save_format='jpg'):    \n",
    "    i += 1    \n",
    "    if i > Aug_Images_Needed:        \n",
    "        break"
   ]
  },
  {
   "cell_type": "code",
   "execution_count": null,
   "metadata": {},
   "outputs": [],
   "source": []
  }
 ],
 "metadata": {
  "kernelspec": {
   "display_name": "Python 3",
   "language": "python",
   "name": "python3"
  },
  "language_info": {
   "codemirror_mode": {
    "name": "ipython",
    "version": 3
   },
   "file_extension": ".py",
   "mimetype": "text/x-python",
   "name": "python",
   "nbconvert_exporter": "python",
   "pygments_lexer": "ipython3",
   "version": "3.8.0"
  },
  "orig_nbformat": 4
 },
 "nbformat": 4,
 "nbformat_minor": 2
}
